{
 "cells": [
  {
   "cell_type": "code",
   "execution_count": 1,
   "id": "07857a54-f6d8-46cd-97e1-9c57951fb5a6",
   "metadata": {},
   "outputs": [],
   "source": [
    "import warnings\n",
    "warnings.filterwarnings('ignore')"
   ]
  },
  {
   "cell_type": "code",
   "execution_count": 2,
   "id": "bc1bde1f",
   "metadata": {},
   "outputs": [],
   "source": [
    "import os\n",
    "import pandas as pd\n",
    "import matplotlib as plt\n",
    "import numpy as np\n",
    "\n",
    "pd.set_option(\"display.float_format\",\"{:.2f}\".format)"
   ]
  },
  {
   "cell_type": "code",
   "execution_count": 3,
   "id": "bcb704c0",
   "metadata": {},
   "outputs": [
    {
     "data": {
      "text/html": [
       "<div>\n",
       "<style scoped>\n",
       "    .dataframe tbody tr th:only-of-type {\n",
       "        vertical-align: middle;\n",
       "    }\n",
       "\n",
       "    .dataframe tbody tr th {\n",
       "        vertical-align: top;\n",
       "    }\n",
       "\n",
       "    .dataframe thead th {\n",
       "        text-align: right;\n",
       "    }\n",
       "</style>\n",
       "<table border=\"1\" class=\"dataframe\">\n",
       "  <thead>\n",
       "    <tr style=\"text-align: right;\">\n",
       "      <th></th>\n",
       "      <th>County</th>\n",
       "      <th>Data Generation Date</th>\n",
       "      <th>OSHPD Project Status</th>\n",
       "      <th>Total Costs of OSHPD Projects</th>\n",
       "      <th>Number of OSHPD Projects</th>\n",
       "      <th>Collection of Counties</th>\n",
       "    </tr>\n",
       "  </thead>\n",
       "  <tbody>\n",
       "    <tr>\n",
       "      <th>0</th>\n",
       "      <td>01 - Alameda</td>\n",
       "      <td>9/30/2013</td>\n",
       "      <td>In Review</td>\n",
       "      <td>$50914315.00</td>\n",
       "      <td>45</td>\n",
       "      <td>Bay Area Counties</td>\n",
       "    </tr>\n",
       "    <tr>\n",
       "      <th>1</th>\n",
       "      <td>01 - Alameda</td>\n",
       "      <td>9/30/2013</td>\n",
       "      <td>Pending Construction</td>\n",
       "      <td>$840182510.04</td>\n",
       "      <td>126</td>\n",
       "      <td>Bay Area Counties</td>\n",
       "    </tr>\n",
       "    <tr>\n",
       "      <th>2</th>\n",
       "      <td>01 - Alameda</td>\n",
       "      <td>9/30/2013</td>\n",
       "      <td>In Construction</td>\n",
       "      <td>$994352932.29</td>\n",
       "      <td>181</td>\n",
       "      <td>Bay Area Counties</td>\n",
       "    </tr>\n",
       "    <tr>\n",
       "      <th>3</th>\n",
       "      <td>01 - Alameda</td>\n",
       "      <td>9/30/2013</td>\n",
       "      <td>In Closure</td>\n",
       "      <td>$65255928.88</td>\n",
       "      <td>81</td>\n",
       "      <td>Bay Area Counties</td>\n",
       "    </tr>\n",
       "    <tr>\n",
       "      <th>4</th>\n",
       "      <td>02 - Alpine</td>\n",
       "      <td>9/30/2013</td>\n",
       "      <td>In Review</td>\n",
       "      <td>$0.00</td>\n",
       "      <td>0</td>\n",
       "      <td>NaN</td>\n",
       "    </tr>\n",
       "  </tbody>\n",
       "</table>\n",
       "</div>"
      ],
      "text/plain": [
       "         County Data Generation Date  OSHPD Project Status  \\\n",
       "0  01 - Alameda            9/30/2013             In Review   \n",
       "1  01 - Alameda            9/30/2013  Pending Construction   \n",
       "2  01 - Alameda            9/30/2013       In Construction   \n",
       "3  01 - Alameda            9/30/2013            In Closure   \n",
       "4   02 - Alpine            9/30/2013             In Review   \n",
       "\n",
       "  Total Costs of OSHPD Projects  Number of OSHPD Projects  \\\n",
       "0                  $50914315.00                        45   \n",
       "1                 $840182510.04                       126   \n",
       "2                 $994352932.29                       181   \n",
       "3                  $65255928.88                        81   \n",
       "4                         $0.00                         0   \n",
       "\n",
       "  Collection of Counties  \n",
       "0      Bay Area Counties  \n",
       "1      Bay Area Counties  \n",
       "2      Bay Area Counties  \n",
       "3      Bay Area Counties  \n",
       "4                    NaN  "
      ]
     },
     "execution_count": 3,
     "metadata": {},
     "output_type": "execute_result"
    }
   ],
   "source": [
    "file_name = \"Total_Construction_Cost_of_Healthcare_Projects.csv\"\n",
    "df = pd.read_csv(file_name)\n",
    "df.head()"
   ]
  },
  {
   "cell_type": "code",
   "execution_count": 4,
   "id": "23b86f9d",
   "metadata": {
    "scrolled": true
   },
   "outputs": [
    {
     "name": "stdout",
     "output_type": "stream",
     "text": [
      "<class 'pandas.core.frame.DataFrame'>\n",
      "RangeIndex: 16472 entries, 0 to 16471\n",
      "Data columns (total 6 columns):\n",
      " #   Column                         Non-Null Count  Dtype \n",
      "---  ------                         --------------  ----- \n",
      " 0   County                         16472 non-null  object\n",
      " 1   Data Generation Date           16472 non-null  object\n",
      " 2   OSHPD Project Status           16472 non-null  object\n",
      " 3   Total Costs of OSHPD Projects  16472 non-null  object\n",
      " 4   Number of OSHPD Projects       16472 non-null  int64 \n",
      " 5   Collection of Counties         4544 non-null   object\n",
      "dtypes: int64(1), object(5)\n",
      "memory usage: 772.2+ KB\n"
     ]
    }
   ],
   "source": [
    "df.info()"
   ]
  },
  {
   "cell_type": "code",
   "execution_count": 5,
   "id": "dc244d9c-fc71-49dc-9e48-3ce5f3b76e8c",
   "metadata": {},
   "outputs": [],
   "source": [
    "# rename column, lower case nospace\n",
    "\n",
    "df.columns = df.columns.str.lower()\n",
    "df.columns= df.columns.str.replace(\" \",\"_\")"
   ]
  },
  {
   "cell_type": "code",
   "execution_count": 6,
   "id": "503db009",
   "metadata": {},
   "outputs": [],
   "source": [
    "# date column to datetime\n",
    "df.data_generation_date=df.data_generation_date.astype(\"datetime64[ns]\")\n"
   ]
  },
  {
   "cell_type": "code",
   "execution_count": 7,
   "id": "15fc13f3-13d8-4d39-91c5-1ffaca2357b4",
   "metadata": {},
   "outputs": [],
   "source": [
    "# convert total cost column to float\n",
    "\n",
    "df.total_costs_of_oshpd_projects=df.total_costs_of_oshpd_projects.str.replace(\"$\",\"\")"
   ]
  },
  {
   "cell_type": "code",
   "execution_count": 8,
   "id": "7699338f-e61a-4deb-84cc-ff2bca9736c0",
   "metadata": {},
   "outputs": [],
   "source": [
    "df.total_costs_of_oshpd_projects=pd.to_numeric(df.total_costs_of_oshpd_projects)"
   ]
  },
  {
   "cell_type": "code",
   "execution_count": 9,
   "id": "ae770ae3-7a06-419a-bab8-0ea85a86a6f6",
   "metadata": {},
   "outputs": [
    {
     "name": "stdout",
     "output_type": "stream",
     "text": [
      "<class 'pandas.core.frame.DataFrame'>\n",
      "RangeIndex: 16472 entries, 0 to 16471\n",
      "Data columns (total 6 columns):\n",
      " #   Column                         Non-Null Count  Dtype         \n",
      "---  ------                         --------------  -----         \n",
      " 0   county                         16472 non-null  object        \n",
      " 1   data_generation_date           16472 non-null  datetime64[ns]\n",
      " 2   oshpd_project_status           16472 non-null  object        \n",
      " 3   total_costs_of_oshpd_projects  16472 non-null  float64       \n",
      " 4   number_of_oshpd_projects       16472 non-null  int64         \n",
      " 5   collection_of_counties         4544 non-null   object        \n",
      "dtypes: datetime64[ns](1), float64(1), int64(1), object(3)\n",
      "memory usage: 772.2+ KB\n"
     ]
    }
   ],
   "source": [
    "df.info()"
   ]
  },
  {
   "cell_type": "code",
   "execution_count": 10,
   "id": "30415584-c829-4110-9fba-7503ded96a2e",
   "metadata": {},
   "outputs": [
    {
     "data": {
      "text/html": [
       "<div>\n",
       "<style scoped>\n",
       "    .dataframe tbody tr th:only-of-type {\n",
       "        vertical-align: middle;\n",
       "    }\n",
       "\n",
       "    .dataframe tbody tr th {\n",
       "        vertical-align: top;\n",
       "    }\n",
       "\n",
       "    .dataframe thead th {\n",
       "        text-align: right;\n",
       "    }\n",
       "</style>\n",
       "<table border=\"1\" class=\"dataframe\">\n",
       "  <thead>\n",
       "    <tr style=\"text-align: right;\">\n",
       "      <th></th>\n",
       "      <th>county</th>\n",
       "      <th>data_generation_date</th>\n",
       "      <th>oshpd_project_status</th>\n",
       "      <th>total_costs_of_oshpd_projects</th>\n",
       "      <th>number_of_oshpd_projects</th>\n",
       "      <th>collection_of_counties</th>\n",
       "    </tr>\n",
       "  </thead>\n",
       "  <tbody>\n",
       "    <tr>\n",
       "      <th>0</th>\n",
       "      <td>01 - Alameda</td>\n",
       "      <td>2013-09-30</td>\n",
       "      <td>In Review</td>\n",
       "      <td>50914315.00</td>\n",
       "      <td>45</td>\n",
       "      <td>Bay Area Counties</td>\n",
       "    </tr>\n",
       "    <tr>\n",
       "      <th>1</th>\n",
       "      <td>01 - Alameda</td>\n",
       "      <td>2013-09-30</td>\n",
       "      <td>Pending Construction</td>\n",
       "      <td>840182510.04</td>\n",
       "      <td>126</td>\n",
       "      <td>Bay Area Counties</td>\n",
       "    </tr>\n",
       "    <tr>\n",
       "      <th>2</th>\n",
       "      <td>01 - Alameda</td>\n",
       "      <td>2013-09-30</td>\n",
       "      <td>In Construction</td>\n",
       "      <td>994352932.29</td>\n",
       "      <td>181</td>\n",
       "      <td>Bay Area Counties</td>\n",
       "    </tr>\n",
       "    <tr>\n",
       "      <th>3</th>\n",
       "      <td>01 - Alameda</td>\n",
       "      <td>2013-09-30</td>\n",
       "      <td>In Closure</td>\n",
       "      <td>65255928.88</td>\n",
       "      <td>81</td>\n",
       "      <td>Bay Area Counties</td>\n",
       "    </tr>\n",
       "    <tr>\n",
       "      <th>4</th>\n",
       "      <td>02 - Alpine</td>\n",
       "      <td>2013-09-30</td>\n",
       "      <td>In Review</td>\n",
       "      <td>0.00</td>\n",
       "      <td>0</td>\n",
       "      <td>NaN</td>\n",
       "    </tr>\n",
       "  </tbody>\n",
       "</table>\n",
       "</div>"
      ],
      "text/plain": [
       "         county data_generation_date  oshpd_project_status  \\\n",
       "0  01 - Alameda           2013-09-30             In Review   \n",
       "1  01 - Alameda           2013-09-30  Pending Construction   \n",
       "2  01 - Alameda           2013-09-30       In Construction   \n",
       "3  01 - Alameda           2013-09-30            In Closure   \n",
       "4   02 - Alpine           2013-09-30             In Review   \n",
       "\n",
       "   total_costs_of_oshpd_projects  number_of_oshpd_projects  \\\n",
       "0                    50914315.00                        45   \n",
       "1                   840182510.04                       126   \n",
       "2                   994352932.29                       181   \n",
       "3                    65255928.88                        81   \n",
       "4                           0.00                         0   \n",
       "\n",
       "  collection_of_counties  \n",
       "0      Bay Area Counties  \n",
       "1      Bay Area Counties  \n",
       "2      Bay Area Counties  \n",
       "3      Bay Area Counties  \n",
       "4                    NaN  "
      ]
     },
     "execution_count": 10,
     "metadata": {},
     "output_type": "execute_result"
    }
   ],
   "source": [
    "df.head()"
   ]
  },
  {
   "cell_type": "code",
   "execution_count": 17,
   "id": "5e7785ed",
   "metadata": {},
   "outputs": [
    {
     "data": {
      "text/plain": [
       "Other                           11928\n",
       "Bay Area Counties                2556\n",
       "Greater Sacramento Counties      1136\n",
       "Greater Los Angeles Counties      852\n",
       "Name: collection_of_counties, dtype: int64"
      ]
     },
     "execution_count": 17,
     "metadata": {},
     "output_type": "execute_result"
    }
   ],
   "source": [
    "# handle nan\n",
    "df.collection_of_counties.fillna(\"Other\",inplace=True)\n",
    "df.collection_of_counties.value_counts()\n",
    " "
   ]
  },
  {
   "cell_type": "markdown",
   "id": "64e891db-af80-433c-bbd9-cacc7aa5f3df",
   "metadata": {},
   "source": [
    "## EXPORT"
   ]
  },
  {
   "cell_type": "code",
   "execution_count": 12,
   "id": "9a9ddc48",
   "metadata": {},
   "outputs": [],
   "source": [
    "#save as sqlite db"
   ]
  },
  {
   "cell_type": "code",
   "execution_count": 13,
   "id": "ed2c56f7",
   "metadata": {},
   "outputs": [],
   "source": [
    "#export as excel file"
   ]
  },
  {
   "cell_type": "code",
   "execution_count": 14,
   "id": "7dce7b41",
   "metadata": {},
   "outputs": [],
   "source": [
    "# graph"
   ]
  },
  {
   "cell_type": "code",
   "execution_count": null,
   "id": "1975c9b5",
   "metadata": {},
   "outputs": [],
   "source": []
  }
 ],
 "metadata": {
  "kernelspec": {
   "display_name": "Python 3",
   "language": "python",
   "name": "python3"
  },
  "language_info": {
   "codemirror_mode": {
    "name": "ipython",
    "version": 3
   },
   "file_extension": ".py",
   "mimetype": "text/x-python",
   "name": "python",
   "nbconvert_exporter": "python",
   "pygments_lexer": "ipython3",
   "version": "3.8.8"
  }
 },
 "nbformat": 4,
 "nbformat_minor": 5
}
