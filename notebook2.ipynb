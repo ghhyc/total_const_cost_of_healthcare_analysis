{
 "cells": [
  {
   "cell_type": "code",
   "execution_count": 4,
   "id": "d43af406",
   "metadata": {},
   "outputs": [],
   "source": [
    "import warnings\n",
    "warnings.filterwarnings('ignore')"
   ]
  },
  {
   "cell_type": "code",
   "execution_count": 7,
   "id": "f7af95f6",
   "metadata": {},
   "outputs": [],
   "source": [
    "import os\n",
    "import pandas as pd\n",
    "import matplotlib as plt\n",
    "import numpy as np\n",
    "\n",
    "pd.set_option(\"display.float_format\",\"{:.2f}\".format)\n"
   ]
  },
  {
   "cell_type": "code",
   "execution_count": 10,
   "id": "15ef0d4d",
   "metadata": {},
   "outputs": [
    {
     "data": {
      "text/html": [
       "<div>\n",
       "<style scoped>\n",
       "    .dataframe tbody tr th:only-of-type {\n",
       "        vertical-align: middle;\n",
       "    }\n",
       "\n",
       "    .dataframe tbody tr th {\n",
       "        vertical-align: top;\n",
       "    }\n",
       "\n",
       "    .dataframe thead th {\n",
       "        text-align: right;\n",
       "    }\n",
       "</style>\n",
       "<table border=\"1\" class=\"dataframe\">\n",
       "  <thead>\n",
       "    <tr style=\"text-align: right;\">\n",
       "      <th></th>\n",
       "      <th>County</th>\n",
       "      <th>Data Generation Date</th>\n",
       "      <th>OSHPD Project Status</th>\n",
       "      <th>Total Costs of OSHPD Projects</th>\n",
       "      <th>Number of OSHPD Projects</th>\n",
       "      <th>Collection of Counties</th>\n",
       "    </tr>\n",
       "  </thead>\n",
       "  <tbody>\n",
       "    <tr>\n",
       "      <th>0</th>\n",
       "      <td>01 - Alameda</td>\n",
       "      <td>9/30/2013</td>\n",
       "      <td>In Review</td>\n",
       "      <td>$50914315.00</td>\n",
       "      <td>45</td>\n",
       "      <td>Bay Area Counties</td>\n",
       "    </tr>\n",
       "    <tr>\n",
       "      <th>1</th>\n",
       "      <td>01 - Alameda</td>\n",
       "      <td>9/30/2013</td>\n",
       "      <td>Pending Construction</td>\n",
       "      <td>$840182510.04</td>\n",
       "      <td>126</td>\n",
       "      <td>Bay Area Counties</td>\n",
       "    </tr>\n",
       "    <tr>\n",
       "      <th>2</th>\n",
       "      <td>01 - Alameda</td>\n",
       "      <td>9/30/2013</td>\n",
       "      <td>In Construction</td>\n",
       "      <td>$994352932.29</td>\n",
       "      <td>181</td>\n",
       "      <td>Bay Area Counties</td>\n",
       "    </tr>\n",
       "    <tr>\n",
       "      <th>3</th>\n",
       "      <td>01 - Alameda</td>\n",
       "      <td>9/30/2013</td>\n",
       "      <td>In Closure</td>\n",
       "      <td>$65255928.88</td>\n",
       "      <td>81</td>\n",
       "      <td>Bay Area Counties</td>\n",
       "    </tr>\n",
       "    <tr>\n",
       "      <th>4</th>\n",
       "      <td>02 - Alpine</td>\n",
       "      <td>9/30/2013</td>\n",
       "      <td>In Review</td>\n",
       "      <td>$0.00</td>\n",
       "      <td>0</td>\n",
       "      <td>NaN</td>\n",
       "    </tr>\n",
       "  </tbody>\n",
       "</table>\n",
       "</div>"
      ],
      "text/plain": [
       "         County Data Generation Date  OSHPD Project Status  \\\n",
       "0  01 - Alameda            9/30/2013             In Review   \n",
       "1  01 - Alameda            9/30/2013  Pending Construction   \n",
       "2  01 - Alameda            9/30/2013       In Construction   \n",
       "3  01 - Alameda            9/30/2013            In Closure   \n",
       "4   02 - Alpine            9/30/2013             In Review   \n",
       "\n",
       "  Total Costs of OSHPD Projects  Number of OSHPD Projects  \\\n",
       "0                  $50914315.00                        45   \n",
       "1                 $840182510.04                       126   \n",
       "2                 $994352932.29                       181   \n",
       "3                  $65255928.88                        81   \n",
       "4                         $0.00                         0   \n",
       "\n",
       "  Collection of Counties  \n",
       "0      Bay Area Counties  \n",
       "1      Bay Area Counties  \n",
       "2      Bay Area Counties  \n",
       "3      Bay Area Counties  \n",
       "4                    NaN  "
      ]
     },
     "execution_count": 10,
     "metadata": {},
     "output_type": "execute_result"
    }
   ],
   "source": [
    "file_name = \"Total_Construction_Cost_of_Healthcare_Projects.csv\"\n",
    "df = pd.read_csv(file_name)\n",
    "df.head()"
   ]
  },
  {
   "cell_type": "code",
   "execution_count": 11,
   "id": "86150f3c",
   "metadata": {},
   "outputs": [
    {
     "name": "stdout",
     "output_type": "stream",
     "text": [
      "<class 'pandas.core.frame.DataFrame'>\n",
      "RangeIndex: 16472 entries, 0 to 16471\n",
      "Data columns (total 6 columns):\n",
      " #   Column                         Non-Null Count  Dtype \n",
      "---  ------                         --------------  ----- \n",
      " 0   County                         16472 non-null  object\n",
      " 1   Data Generation Date           16472 non-null  object\n",
      " 2   OSHPD Project Status           16472 non-null  object\n",
      " 3   Total Costs of OSHPD Projects  16472 non-null  object\n",
      " 4   Number of OSHPD Projects       16472 non-null  int64 \n",
      " 5   Collection of Counties         4544 non-null   object\n",
      "dtypes: int64(1), object(5)\n",
      "memory usage: 772.2+ KB\n"
     ]
    }
   ],
   "source": [
    "df.info()"
   ]
  },
  {
   "cell_type": "code",
   "execution_count": 13,
   "id": "4cbe5135",
   "metadata": {},
   "outputs": [],
   "source": [
    "# rename column, lower case nospace\n",
    "\n",
    "df.columns = df.columns.str.lower()\n",
    "df.columns = df.columns.str.replace(\" \",\"_\")"
   ]
  },
  {
   "cell_type": "code",
   "execution_count": 14,
   "id": "58c4ee8f",
   "metadata": {},
   "outputs": [
    {
     "name": "stdout",
     "output_type": "stream",
     "text": [
      "<class 'pandas.core.frame.DataFrame'>\n",
      "RangeIndex: 16472 entries, 0 to 16471\n",
      "Data columns (total 6 columns):\n",
      " #   Column                         Non-Null Count  Dtype \n",
      "---  ------                         --------------  ----- \n",
      " 0   county                         16472 non-null  object\n",
      " 1   data_generation_date           16472 non-null  object\n",
      " 2   oshpd_project_status           16472 non-null  object\n",
      " 3   total_costs_of_oshpd_projects  16472 non-null  object\n",
      " 4   number_of_oshpd_projects       16472 non-null  int64 \n",
      " 5   collection_of_counties         4544 non-null   object\n",
      "dtypes: int64(1), object(5)\n",
      "memory usage: 772.2+ KB\n"
     ]
    }
   ],
   "source": [
    "df.info()"
   ]
  },
  {
   "cell_type": "code",
   "execution_count": 15,
   "id": "0786b3a5",
   "metadata": {},
   "outputs": [
    {
     "data": {
      "text/html": [
       "<div>\n",
       "<style scoped>\n",
       "    .dataframe tbody tr th:only-of-type {\n",
       "        vertical-align: middle;\n",
       "    }\n",
       "\n",
       "    .dataframe tbody tr th {\n",
       "        vertical-align: top;\n",
       "    }\n",
       "\n",
       "    .dataframe thead th {\n",
       "        text-align: right;\n",
       "    }\n",
       "</style>\n",
       "<table border=\"1\" class=\"dataframe\">\n",
       "  <thead>\n",
       "    <tr style=\"text-align: right;\">\n",
       "      <th></th>\n",
       "      <th>county</th>\n",
       "      <th>data_generation_date</th>\n",
       "      <th>oshpd_project_status</th>\n",
       "      <th>total_costs_of_oshpd_projects</th>\n",
       "      <th>number_of_oshpd_projects</th>\n",
       "      <th>collection_of_counties</th>\n",
       "    </tr>\n",
       "  </thead>\n",
       "  <tbody>\n",
       "    <tr>\n",
       "      <th>0</th>\n",
       "      <td>01 - Alameda</td>\n",
       "      <td>9/30/2013</td>\n",
       "      <td>In Review</td>\n",
       "      <td>$50914315.00</td>\n",
       "      <td>45</td>\n",
       "      <td>Bay Area Counties</td>\n",
       "    </tr>\n",
       "    <tr>\n",
       "      <th>1</th>\n",
       "      <td>01 - Alameda</td>\n",
       "      <td>9/30/2013</td>\n",
       "      <td>Pending Construction</td>\n",
       "      <td>$840182510.04</td>\n",
       "      <td>126</td>\n",
       "      <td>Bay Area Counties</td>\n",
       "    </tr>\n",
       "    <tr>\n",
       "      <th>2</th>\n",
       "      <td>01 - Alameda</td>\n",
       "      <td>9/30/2013</td>\n",
       "      <td>In Construction</td>\n",
       "      <td>$994352932.29</td>\n",
       "      <td>181</td>\n",
       "      <td>Bay Area Counties</td>\n",
       "    </tr>\n",
       "    <tr>\n",
       "      <th>3</th>\n",
       "      <td>01 - Alameda</td>\n",
       "      <td>9/30/2013</td>\n",
       "      <td>In Closure</td>\n",
       "      <td>$65255928.88</td>\n",
       "      <td>81</td>\n",
       "      <td>Bay Area Counties</td>\n",
       "    </tr>\n",
       "    <tr>\n",
       "      <th>4</th>\n",
       "      <td>02 - Alpine</td>\n",
       "      <td>9/30/2013</td>\n",
       "      <td>In Review</td>\n",
       "      <td>$0.00</td>\n",
       "      <td>0</td>\n",
       "      <td>NaN</td>\n",
       "    </tr>\n",
       "  </tbody>\n",
       "</table>\n",
       "</div>"
      ],
      "text/plain": [
       "         county data_generation_date  oshpd_project_status  \\\n",
       "0  01 - Alameda            9/30/2013             In Review   \n",
       "1  01 - Alameda            9/30/2013  Pending Construction   \n",
       "2  01 - Alameda            9/30/2013       In Construction   \n",
       "3  01 - Alameda            9/30/2013            In Closure   \n",
       "4   02 - Alpine            9/30/2013             In Review   \n",
       "\n",
       "  total_costs_of_oshpd_projects  number_of_oshpd_projects  \\\n",
       "0                  $50914315.00                        45   \n",
       "1                 $840182510.04                       126   \n",
       "2                 $994352932.29                       181   \n",
       "3                  $65255928.88                        81   \n",
       "4                         $0.00                         0   \n",
       "\n",
       "  collection_of_counties  \n",
       "0      Bay Area Counties  \n",
       "1      Bay Area Counties  \n",
       "2      Bay Area Counties  \n",
       "3      Bay Area Counties  \n",
       "4                    NaN  "
      ]
     },
     "execution_count": 15,
     "metadata": {},
     "output_type": "execute_result"
    }
   ],
   "source": [
    "df.head()"
   ]
  },
  {
   "cell_type": "code",
   "execution_count": 18,
   "id": "5eb003b7",
   "metadata": {},
   "outputs": [],
   "source": [
    "# convert total cost column to float\n",
    "df.total_costs_of_oshpd_projects=df.total_costs_of_oshpd_projects.str.replace(\"$\",\" \")"
   ]
  },
  {
   "cell_type": "code",
   "execution_count": 19,
   "id": "c92bd92a",
   "metadata": {},
   "outputs": [],
   "source": [
    "df.total_costs_of_oshpd_projects=pd.to_numeric(df.total_costs_of_oshpd_projects)"
   ]
  },
  {
   "cell_type": "code",
   "execution_count": 20,
   "id": "f3e4ac28",
   "metadata": {},
   "outputs": [
    {
     "name": "stdout",
     "output_type": "stream",
     "text": [
      "<class 'pandas.core.frame.DataFrame'>\n",
      "RangeIndex: 16472 entries, 0 to 16471\n",
      "Data columns (total 6 columns):\n",
      " #   Column                         Non-Null Count  Dtype  \n",
      "---  ------                         --------------  -----  \n",
      " 0   county                         16472 non-null  object \n",
      " 1   data_generation_date           16472 non-null  object \n",
      " 2   oshpd_project_status           16472 non-null  object \n",
      " 3   total_costs_of_oshpd_projects  16472 non-null  float64\n",
      " 4   number_of_oshpd_projects       16472 non-null  int64  \n",
      " 5   collection_of_counties         4544 non-null   object \n",
      "dtypes: float64(1), int64(1), object(4)\n",
      "memory usage: 772.2+ KB\n"
     ]
    }
   ],
   "source": [
    "df.info()"
   ]
  },
  {
   "cell_type": "code",
   "execution_count": 21,
   "id": "0b2d2734",
   "metadata": {},
   "outputs": [
    {
     "data": {
      "text/html": [
       "<div>\n",
       "<style scoped>\n",
       "    .dataframe tbody tr th:only-of-type {\n",
       "        vertical-align: middle;\n",
       "    }\n",
       "\n",
       "    .dataframe tbody tr th {\n",
       "        vertical-align: top;\n",
       "    }\n",
       "\n",
       "    .dataframe thead th {\n",
       "        text-align: right;\n",
       "    }\n",
       "</style>\n",
       "<table border=\"1\" class=\"dataframe\">\n",
       "  <thead>\n",
       "    <tr style=\"text-align: right;\">\n",
       "      <th></th>\n",
       "      <th>county</th>\n",
       "      <th>data_generation_date</th>\n",
       "      <th>oshpd_project_status</th>\n",
       "      <th>total_costs_of_oshpd_projects</th>\n",
       "      <th>number_of_oshpd_projects</th>\n",
       "      <th>collection_of_counties</th>\n",
       "    </tr>\n",
       "  </thead>\n",
       "  <tbody>\n",
       "    <tr>\n",
       "      <th>0</th>\n",
       "      <td>01 - Alameda</td>\n",
       "      <td>9/30/2013</td>\n",
       "      <td>In Review</td>\n",
       "      <td>50914315.00</td>\n",
       "      <td>45</td>\n",
       "      <td>Bay Area Counties</td>\n",
       "    </tr>\n",
       "    <tr>\n",
       "      <th>1</th>\n",
       "      <td>01 - Alameda</td>\n",
       "      <td>9/30/2013</td>\n",
       "      <td>Pending Construction</td>\n",
       "      <td>840182510.04</td>\n",
       "      <td>126</td>\n",
       "      <td>Bay Area Counties</td>\n",
       "    </tr>\n",
       "    <tr>\n",
       "      <th>2</th>\n",
       "      <td>01 - Alameda</td>\n",
       "      <td>9/30/2013</td>\n",
       "      <td>In Construction</td>\n",
       "      <td>994352932.29</td>\n",
       "      <td>181</td>\n",
       "      <td>Bay Area Counties</td>\n",
       "    </tr>\n",
       "    <tr>\n",
       "      <th>3</th>\n",
       "      <td>01 - Alameda</td>\n",
       "      <td>9/30/2013</td>\n",
       "      <td>In Closure</td>\n",
       "      <td>65255928.88</td>\n",
       "      <td>81</td>\n",
       "      <td>Bay Area Counties</td>\n",
       "    </tr>\n",
       "    <tr>\n",
       "      <th>4</th>\n",
       "      <td>02 - Alpine</td>\n",
       "      <td>9/30/2013</td>\n",
       "      <td>In Review</td>\n",
       "      <td>0.00</td>\n",
       "      <td>0</td>\n",
       "      <td>NaN</td>\n",
       "    </tr>\n",
       "  </tbody>\n",
       "</table>\n",
       "</div>"
      ],
      "text/plain": [
       "         county data_generation_date  oshpd_project_status  \\\n",
       "0  01 - Alameda            9/30/2013             In Review   \n",
       "1  01 - Alameda            9/30/2013  Pending Construction   \n",
       "2  01 - Alameda            9/30/2013       In Construction   \n",
       "3  01 - Alameda            9/30/2013            In Closure   \n",
       "4   02 - Alpine            9/30/2013             In Review   \n",
       "\n",
       "   total_costs_of_oshpd_projects  number_of_oshpd_projects  \\\n",
       "0                    50914315.00                        45   \n",
       "1                   840182510.04                       126   \n",
       "2                   994352932.29                       181   \n",
       "3                    65255928.88                        81   \n",
       "4                           0.00                         0   \n",
       "\n",
       "  collection_of_counties  \n",
       "0      Bay Area Counties  \n",
       "1      Bay Area Counties  \n",
       "2      Bay Area Counties  \n",
       "3      Bay Area Counties  \n",
       "4                    NaN  "
      ]
     },
     "execution_count": 21,
     "metadata": {},
     "output_type": "execute_result"
    }
   ],
   "source": [
    "df.head()"
   ]
  },
  {
   "cell_type": "code",
   "execution_count": null,
   "id": "3b90557e",
   "metadata": {},
   "outputs": [],
   "source": []
  }
 ],
 "metadata": {
  "kernelspec": {
   "display_name": "Python 3",
   "language": "python",
   "name": "python3"
  },
  "language_info": {
   "codemirror_mode": {
    "name": "ipython",
    "version": 3
   },
   "file_extension": ".py",
   "mimetype": "text/x-python",
   "name": "python",
   "nbconvert_exporter": "python",
   "pygments_lexer": "ipython3",
   "version": "3.8.8"
  }
 },
 "nbformat": 4,
 "nbformat_minor": 5
}
