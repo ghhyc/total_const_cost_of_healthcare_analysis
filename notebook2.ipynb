{
 "cells": [
  {
   "cell_type": "code",
   "execution_count": 4,
   "id": "65d9d104",
   "metadata": {},
   "outputs": [],
   "source": [
    "import warnings\n",
    "warnings.filterwarnings('ignore')"
   ]
  },
  {
   "cell_type": "code",
   "execution_count": 7,
   "id": "f451c803",
   "metadata": {},
   "outputs": [],
   "source": [
    "import os\n",
    "import pandas as pd\n",
    "import matplotlib as plt\n",
    "import numpy as np\n",
    "\n",
    "pd.set_option(\"display.float_format\",\"{:.2f}\".format)\n"
   ]
  },
  {
   "cell_type": "code",
   "execution_count": 10,
   "id": "4bd818ab",
   "metadata": {},
   "outputs": [
    {
     "data": {
      "text/html": [
       "<div>\n",
       "<style scoped>\n",
       "    .dataframe tbody tr th:only-of-type {\n",
       "        vertical-align: middle;\n",
       "    }\n",
       "\n",
       "    .dataframe tbody tr th {\n",
       "        vertical-align: top;\n",
       "    }\n",
       "\n",
       "    .dataframe thead th {\n",
       "        text-align: right;\n",
       "    }\n",
       "</style>\n",
       "<table border=\"1\" class=\"dataframe\">\n",
       "  <thead>\n",
       "    <tr style=\"text-align: right;\">\n",
       "      <th></th>\n",
       "      <th>County</th>\n",
       "      <th>Data Generation Date</th>\n",
       "      <th>OSHPD Project Status</th>\n",
       "      <th>Total Costs of OSHPD Projects</th>\n",
       "      <th>Number of OSHPD Projects</th>\n",
       "      <th>Collection of Counties</th>\n",
       "    </tr>\n",
       "  </thead>\n",
       "  <tbody>\n",
       "    <tr>\n",
       "      <th>0</th>\n",
       "      <td>01 - Alameda</td>\n",
       "      <td>9/30/2013</td>\n",
       "      <td>In Review</td>\n",
       "      <td>$50914315.00</td>\n",
       "      <td>45</td>\n",
       "      <td>Bay Area Counties</td>\n",
       "    </tr>\n",
       "    <tr>\n",
       "      <th>1</th>\n",
       "      <td>01 - Alameda</td>\n",
       "      <td>9/30/2013</td>\n",
       "      <td>Pending Construction</td>\n",
       "      <td>$840182510.04</td>\n",
       "      <td>126</td>\n",
       "      <td>Bay Area Counties</td>\n",
       "    </tr>\n",
       "    <tr>\n",
       "      <th>2</th>\n",
       "      <td>01 - Alameda</td>\n",
       "      <td>9/30/2013</td>\n",
       "      <td>In Construction</td>\n",
       "      <td>$994352932.29</td>\n",
       "      <td>181</td>\n",
       "      <td>Bay Area Counties</td>\n",
       "    </tr>\n",
       "    <tr>\n",
       "      <th>3</th>\n",
       "      <td>01 - Alameda</td>\n",
       "      <td>9/30/2013</td>\n",
       "      <td>In Closure</td>\n",
       "      <td>$65255928.88</td>\n",
       "      <td>81</td>\n",
       "      <td>Bay Area Counties</td>\n",
       "    </tr>\n",
       "    <tr>\n",
       "      <th>4</th>\n",
       "      <td>02 - Alpine</td>\n",
       "      <td>9/30/2013</td>\n",
       "      <td>In Review</td>\n",
       "      <td>$0.00</td>\n",
       "      <td>0</td>\n",
       "      <td>NaN</td>\n",
       "    </tr>\n",
       "  </tbody>\n",
       "</table>\n",
       "</div>"
      ],
      "text/plain": [
       "         County Data Generation Date  OSHPD Project Status  \\\n",
       "0  01 - Alameda            9/30/2013             In Review   \n",
       "1  01 - Alameda            9/30/2013  Pending Construction   \n",
       "2  01 - Alameda            9/30/2013       In Construction   \n",
       "3  01 - Alameda            9/30/2013            In Closure   \n",
       "4   02 - Alpine            9/30/2013             In Review   \n",
       "\n",
       "  Total Costs of OSHPD Projects  Number of OSHPD Projects  \\\n",
       "0                  $50914315.00                        45   \n",
       "1                 $840182510.04                       126   \n",
       "2                 $994352932.29                       181   \n",
       "3                  $65255928.88                        81   \n",
       "4                         $0.00                         0   \n",
       "\n",
       "  Collection of Counties  \n",
       "0      Bay Area Counties  \n",
       "1      Bay Area Counties  \n",
       "2      Bay Area Counties  \n",
       "3      Bay Area Counties  \n",
       "4                    NaN  "
      ]
     },
     "execution_count": 10,
     "metadata": {},
     "output_type": "execute_result"
    }
   ],
   "source": [
    "file_name = \"Total_Construction_Cost_of_Healthcare_Projects.csv\"\n",
    "df = pd.read_csv(file_name)\n",
    "df.head()"
   ]
  },
  {
   "cell_type": "code",
   "execution_count": null,
   "id": "d655834b",
   "metadata": {},
   "outputs": [],
   "source": []
  }
 ],
 "metadata": {
  "kernelspec": {
   "display_name": "Python 3",
   "language": "python",
   "name": "python3"
  },
  "language_info": {
   "codemirror_mode": {
    "name": "ipython",
    "version": 3
   },
   "file_extension": ".py",
   "mimetype": "text/x-python",
   "name": "python",
   "nbconvert_exporter": "python",
   "pygments_lexer": "ipython3",
   "version": "3.8.8"
  }
 },
 "nbformat": 4,
 "nbformat_minor": 5
}
